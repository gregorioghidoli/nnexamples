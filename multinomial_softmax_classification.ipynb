{
 "cells": [
  {
   "cell_type": "code",
   "execution_count": 22,
   "metadata": {},
   "outputs": [],
   "source": [
    "import numpy as np\n",
    "import pandas as pd\n",
    "from sklearn.model_selection import train_test_split\n",
    "from sklearn.preprocessing import LabelEncoder, OneHotEncoder\n",
    "\n",
    "np.random.seed(2)\n",
    "onehot_encoder = OneHotEncoder(sparse=False)"
   ]
  },
  {
   "cell_type": "code",
   "execution_count": 23,
   "metadata": {},
   "outputs": [],
   "source": [
    "data = pd.read_csv('Data/iris.csv')\n",
    "\n",
    "labelencoder = LabelEncoder()\n",
    "data[\"species\"] = labelencoder.fit_transform(data[\"species\"])\n",
    "X = data[['sepal_length', 'sepal_width', 'petal_length', 'petal_width']]\n",
    "y = data['species']"
   ]
  },
  {
   "cell_type": "code",
   "execution_count": 24,
   "metadata": {},
   "outputs": [],
   "source": [
    "X_train, X_test, Y_train, Y_test = train_test_split(X, y, test_size = 0.2)\n",
    "X_train = X_train.values.T\n",
    "X_test = X_test.values.T\n",
    "Y_train = Y_train.values.T\n",
    "Y_test = Y_test.values.T"
   ]
  },
  {
   "cell_type": "code",
   "execution_count": 25,
   "metadata": {},
   "outputs": [
    {
     "name": "stdout",
     "output_type": "stream",
     "text": [
      "|SHAPES| |X_train: (4, 120) |X_test: (4, 30) |Y_train: (120,) |Y_test: (30,)\n"
     ]
    }
   ],
   "source": [
    "print(\"|SHAPES| |X_train:\", np.shape(X_train),\"|X_test:\", np.shape(X_test), \"|Y_train:\", np.shape(Y_train),  \n",
    "      \"|Y_test:\", np.shape(Y_test))"
   ]
  },
  {
   "cell_type": "code",
   "execution_count": 26,
   "metadata": {
    "scrolled": true
   },
   "outputs": [
    {
     "name": "stdout",
     "output_type": "stream",
     "text": [
      "Y_train shape:  (3, 120)\n"
     ]
    }
   ],
   "source": [
    "onehot = onehot_encoder.fit_transform(Y_train.reshape(len(Y_train), 1))\n",
    "Y_train = onehot.T\n",
    "print(\"Y_train shape: \", np.shape(Y_train))"
   ]
  },
  {
   "cell_type": "code",
   "execution_count": 27,
   "metadata": {},
   "outputs": [],
   "source": [
    "def initialize_parameters(n_x, n_h, n_y):\n",
    "    \n",
    "    W1 = np.random.randn(n_h, n_x) * 0.01 #(6,4)\n",
    "    b1 = np.random.randn(n_h, 1) * 0.01 #(6,1)\n",
    "    W2 = np.random.randn(n_y, n_h) * 0.01 #(3,6)\n",
    "    b2 = np.random.randn(n_y, 1) * 0.01 #(3,1)\n",
    "\n",
    "    parameters = {\"W1\": W1,\n",
    "                  \"b1\": b1,\n",
    "                  \"W2\": W2,\n",
    "                  \"b2\": b2}\n",
    "    \n",
    "    return parameters"
   ]
  },
  {
   "cell_type": "code",
   "execution_count": 28,
   "metadata": {},
   "outputs": [],
   "source": [
    "def forward_propagation(X, parameters):\n",
    "\n",
    "    W1 = parameters['W1']\n",
    "    b1 = parameters['b1']\n",
    "    W2 = parameters['W2']\n",
    "    b2 = parameters['b2']\n",
    "    \n",
    "    Z1 = np.dot(W1, X) + b1\n",
    "    A1 = np.tanh(Z1)  \n",
    "    Z2 = np.dot(W2, A1) + b2\n",
    "    \n",
    "    #stabilizzazione (trovato su internet (devo approfondire))\n",
    "    #serve per evitare: nan error due to floating point limitation in NumPy \n",
    "    X = Z2 - np.max(Z2, axis=0, keepdims=True)\n",
    "    exps = np.exp(X)\n",
    "    A2 = exps/np.sum(exps,axis=0,keepdims=True)\n",
    "    \n",
    "    cache = {\"Z1\": Z1,\n",
    "             \"A1\": A1,\n",
    "             \"Z2\": Z2,\n",
    "             \"A2\": A2}\n",
    "    \n",
    "    return A2, cache"
   ]
  },
  {
   "cell_type": "code",
   "execution_count": 29,
   "metadata": {},
   "outputs": [],
   "source": [
    "def cost(A2, Y, parameters):\n",
    "    \n",
    "    m = Y.shape[1]\n",
    "    \n",
    "    #costo cross-entropy\n",
    "    logprobs = np.sum(Y * np.log(A2 + 1e-8), axis=0)\n",
    "    cost = - np.sum(logprobs) / m\n",
    "    \n",
    "    return cost"
   ]
  },
  {
   "cell_type": "code",
   "execution_count": 30,
   "metadata": {},
   "outputs": [],
   "source": [
    "def sigmoid_derivative(Z):\n",
    "    s = 1 / (1 + np.exp(-Z))\n",
    "    return s * (1 - s)"
   ]
  },
  {
   "cell_type": "code",
   "execution_count": 31,
   "metadata": {},
   "outputs": [],
   "source": [
    "def backward_propagation(parameters, cache, X, Y):\n",
    "    \n",
    "    m = Y.shape[1]\n",
    "    \n",
    "    W1 = parameters['W1']\n",
    "    W2 = parameters['W2']\n",
    "    \n",
    "    A1 = cache['A1']\n",
    "    A2 = cache['A2']\n",
    "    Z1 = cache['Z1']\n",
    "    \n",
    "    dZ2= A2 - Y\n",
    "    dW2 = (1 / m) * np.dot(dZ2, A1.T)\n",
    "    db2 = (1 / m) * np.sum(dZ2, axis=1, keepdims=True)\n",
    "    dZ1 = np.dot(W2.T, dZ2) * sigmoid_derivative(Z1)\n",
    "    dW1 = (1 / m) * np.dot(dZ1, X.T)\n",
    "    db1 = (1 / m) * np.sum(dZ1, axis=1, keepdims=True)\n",
    "    \n",
    "    gradients = {\"dW1\": dW1,\n",
    "                 \"db1\": db1,\n",
    "                 \"dW2\": dW2,\n",
    "                 \"db2\": db2}\n",
    "        \n",
    "    return gradients"
   ]
  },
  {
   "cell_type": "code",
   "execution_count": 32,
   "metadata": {},
   "outputs": [],
   "source": [
    "def update_parameters(parameters, gradients, learning_rate=1.2):\n",
    "\n",
    "    W1 = parameters['W1']\n",
    "    b1 = parameters['b1']\n",
    "    W2 = parameters['W2']\n",
    "    b2 = parameters['b2']\n",
    "    \n",
    "    dW1 = gradients['dW1']\n",
    "    db1 = gradients['db1']\n",
    "    dW2 = gradients['dW2']\n",
    "    db2 = gradients['db2']\n",
    "    \n",
    "    W1 = W1 - learning_rate * dW1\n",
    "    b1 = b1 - learning_rate * db1\n",
    "    W2 = W2 - learning_rate * dW2\n",
    "    b2 = b2 - learning_rate * db2\n",
    "    \n",
    "    parameters = {\"W1\": W1,\n",
    "                  \"b1\": b1,\n",
    "                  \"W2\": W2,\n",
    "                  \"b2\": b2}\n",
    "    \n",
    "    return parameters"
   ]
  },
  {
   "cell_type": "code",
   "execution_count": 33,
   "metadata": {},
   "outputs": [],
   "source": [
    "def train_model(X, Y, n_h, num_iterations=10000, print_cost=False):\n",
    "    \n",
    "    n_x = X.shape[0]\n",
    "    n_y = Y.shape[0]\n",
    "    \n",
    "    parameters = initialize_parameters(n_x, n_h, n_y)\n",
    "    \n",
    "    W1 = parameters['W1']\n",
    "    b1 = parameters['b1']\n",
    "    W2 = parameters['W2']\n",
    "    b2 = parameters['b2']\n",
    "    \n",
    "    #gradient descent\n",
    "    for i in range(0, num_iterations):\n",
    "        A2, cache = forward_propagation(X, parameters)\n",
    "        computed_cost = cost(A2, Y, parameters)\n",
    "        gradients = backward_propagation(parameters, cache, X, Y)\n",
    "        parameters = update_parameters(parameters, gradients)\n",
    "        \n",
    "        if (print_cost and i % 500 == 0) or (print_cost and i == num_iterations-1):\n",
    "            print (\"Costo dopo l'iterazione %i: %f\" % (i, computed_cost))\n",
    "            \n",
    "    return parameters,n_h"
   ]
  },
  {
   "cell_type": "code",
   "execution_count": 34,
   "metadata": {},
   "outputs": [
    {
     "name": "stdout",
     "output_type": "stream",
     "text": [
      "Costo dopo l'iterazione 0: 1.098233\n",
      "Costo dopo l'iterazione 500: 0.892678\n",
      "Costo dopo l'iterazione 1000: 0.180617\n",
      "Costo dopo l'iterazione 1500: 0.171843\n",
      "Costo dopo l'iterazione 2000: 0.150761\n",
      "Costo dopo l'iterazione 2500: 0.112556\n",
      "Costo dopo l'iterazione 3000: 0.096723\n",
      "Costo dopo l'iterazione 3500: 0.088373\n",
      "Costo dopo l'iterazione 4000: 0.084460\n",
      "Costo dopo l'iterazione 4500: 0.081879\n",
      "Costo dopo l'iterazione 5000: 0.079987\n",
      "Costo dopo l'iterazione 5500: 0.078530\n",
      "Costo dopo l'iterazione 6000: 0.084787\n",
      "Costo dopo l'iterazione 6500: 0.068499\n",
      "Costo dopo l'iterazione 7000: 0.067273\n",
      "Costo dopo l'iterazione 7500: 0.067653\n",
      "Costo dopo l'iterazione 8000: 0.073197\n",
      "Costo dopo l'iterazione 8500: 0.084153\n",
      "Costo dopo l'iterazione 9000: 0.064833\n",
      "Costo dopo l'iterazione 9500: 0.065721\n",
      "Costo dopo l'iterazione 9999: 0.083896\n"
     ]
    }
   ],
   "source": [
    "parameters,_ = train_model(X_train,Y_train , n_h = 6, num_iterations=10000, print_cost=True)"
   ]
  },
  {
   "cell_type": "code",
   "execution_count": 35,
   "metadata": {},
   "outputs": [
    {
     "name": "stdout",
     "output_type": "stream",
     "text": [
      "Y_test shape:  (3, 30)\n"
     ]
    }
   ],
   "source": [
    "onehot_encoder = OneHotEncoder(sparse=False)\n",
    "onehot = onehot_encoder.fit_transform(Y_test.reshape(len(Y_test), 1))\n",
    "Y_test = onehot.T\n",
    "print(\"Y_test shape: \", np.shape(Y_test))"
   ]
  },
  {
   "cell_type": "code",
   "execution_count": 36,
   "metadata": {},
   "outputs": [],
   "source": [
    "Y_hat,_ = forward_propagation(X_test, parameters)"
   ]
  },
  {
   "cell_type": "code",
   "execution_count": 37,
   "metadata": {},
   "outputs": [],
   "source": [
    "y_hat = np.argmax(Y_hat, axis=0)\n",
    "y = np.argmax(Y_test, axis=0)"
   ]
  },
  {
   "cell_type": "code",
   "execution_count": 38,
   "metadata": {},
   "outputs": [],
   "source": [
    "accuracy = ( y_hat == y).mean() * 100"
   ]
  },
  {
   "cell_type": "code",
   "execution_count": 39,
   "metadata": {},
   "outputs": [
    {
     "name": "stdout",
     "output_type": "stream",
     "text": [
      "96.66666666666667 %\n"
     ]
    }
   ],
   "source": [
    "print(accuracy,\"%\")"
   ]
  }
 ],
 "metadata": {
  "kernelspec": {
   "display_name": "Python 3",
   "language": "python",
   "name": "python3"
  },
  "language_info": {
   "codemirror_mode": {
    "name": "ipython",
    "version": 3
   },
   "file_extension": ".py",
   "mimetype": "text/x-python",
   "name": "python",
   "nbconvert_exporter": "python",
   "pygments_lexer": "ipython3",
   "version": "3.7.6"
  }
 },
 "nbformat": 4,
 "nbformat_minor": 4
}
